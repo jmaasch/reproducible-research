{
 "cells": [
  {
   "cell_type": "markdown",
   "metadata": {},
   "source": [
    "# Frictionless framework demo\n",
    "\n",
    "*Jacqueline R. M. A. Maasch* | *January 2021*\n",
    "\n",
    "This notebook provides a brief walk-through of `frictionless` functionality, both in command line syntax and Python syntax. The data validated in this demo was scraped from the [MEROPS Peptidase Database](https://www.ebi.ac.uk/merops/index.shtml) in June 2020.\n",
    "\n",
    ">[Frictionless](https://frictionlessdata.io/tooling/python/#purpose) is a framework to describe, extract, validate, and transform tabular data. It supports a great deal of data sources and formats, as well as provides popular platforms integrations. The framework is powered by the lightweight yet comprehensive Frictionless Data Specifications.\n",
    "\n",
    ">**Describe your data:** You can infer, edit and save metadata of your data tables. It’s a first step for ensuring data quality and usability. Frictionless metadata includes general information about your data like textual description, as well as, field types and other tabular data details.\n",
    "\n",
    "> **Extract your data:** You can read your data using a unified tabular interface. Data quality and consistency are guaranteed by a schema. Frictionless supports various file protocols like HTTP, FTP, and S3 and data formats like CSV, XLS, JSON, SQL, and others.\n",
    "\n",
    ">**Validate your data:** You can validate data tables, resources, and datasets. Frictionless generates a unified validation report, as well as supports a lot of options to customize the validation process.\n",
    "\n",
    ">**Transform your data:** You can clean, reshape, and transfer your data tables and datasets. Frictionless provides a pipeline capability and a lower-level interface to work with the data."
   ]
  },
  {
   "cell_type": "code",
   "execution_count": 1,
   "metadata": {},
   "outputs": [],
   "source": [
    "# Importations.\n",
    "import frictionless\n",
    "import pandas as pd"
   ]
  },
  {
   "cell_type": "markdown",
   "metadata": {},
   "source": [
    "## Command line syntax"
   ]
  },
  {
   "cell_type": "code",
   "execution_count": 2,
   "metadata": {},
   "outputs": [
    {
     "name": "stdout",
     "output_type": "stream",
     "text": [
      ",Family,Subfamily,Type enzyme,Group\n",
      "0,A1,A1A,pepsin A (Homo sapiens),Aspartic (A) Peptidase\n",
      "1,A1,A1B,nepenthesin (Nepenthes gracilis),Aspartic (A) Peptidase\n",
      "2,A2,A2A,HIV-1 retropepsin (human immunodeficiency virus 1),Aspartic (A) Peptidase\n"
     ]
    }
   ],
   "source": [
    "# View first 4 lines of data file.\n",
    "! cat merops_peptidase_families.csv | sed '1,4!d'"
   ]
  },
  {
   "cell_type": "code",
   "execution_count": 3,
   "metadata": {},
   "outputs": [
    {
     "name": "stdout",
     "output_type": "stream",
     "text": [
      "---\u001b[0m\n",
      "\u001b[1mmetadata: merops_peptidase_families.csv\u001b[0m\n",
      "---\u001b[0m\n",
      "\u001b[0m\n",
      "compression: 'no'\n",
      "compressionPath: ''\n",
      "control:\n",
      "  newline: ''\n",
      "dialect: {}\n",
      "encoding: utf-8\n",
      "format: csv\n",
      "hashing: md5\n",
      "name: merops_peptidase_families\n",
      "path: merops_peptidase_families.csv\n",
      "profile: tabular-data-resource\n",
      "query: {}\n",
      "schema:\n",
      "  fields:\n",
      "    - name: field1\n",
      "      type: integer\n",
      "    - name: Family\n",
      "      type: string\n",
      "    - name: Subfamily\n",
      "      type: any\n",
      "    - name: Type enzyme\n",
      "      type: string\n",
      "    - name: Group\n",
      "      type: string\n",
      "scheme: file\n",
      "stats:\n",
      "  bytes: 27216\n",
      "  fields: 5\n",
      "  hash: 55a6de92a8855391526150876ca9f33c\n",
      "  rows: 345\u001b[0m\n",
      "\u001b[0m\n"
     ]
    }
   ],
   "source": [
    "# Describe data file's inferred schema.\n",
    "! frictionless describe merops_peptidase_families.csv"
   ]
  },
  {
   "cell_type": "code",
   "execution_count": 4,
   "metadata": {},
   "outputs": [
    {
     "name": "stdout",
     "output_type": "stream",
     "text": [
      "---\n",
      "data: merops_peptidase_families.csv\n",
      "---\n",
      "\n",
      "======  ======  =========  ===============================================================================================================================  ===================================\n",
      "field1  Family  Subfamily  Type enzyme                                                                                                                      Group                              \n",
      "======  ======  =========  ===============================================================================================================================  ===================================\n",
      "     0  A1      A1A        pepsin A (Homo sapiens)                                                                                                          Aspartic (A) Peptidase             \n",
      "     1  A1      A1B        nepenthesin (Nepenthes gracilis)                                                                                                 Aspartic (A) Peptidase             \n",
      "     2  A2      A2A        HIV-1 retropepsin (human immunodeficiency virus 1)                                                                               Aspartic (A) Peptidase             \n"
     ]
    }
   ],
   "source": [
    "# Extract normalized data that conforms to inferred schema.\n",
    "# E.g. invalid cells removed.\n",
    "! frictionless extract merops_peptidase_families.csv | sed '1,10!d'"
   ]
  },
  {
   "cell_type": "code",
   "execution_count": 5,
   "metadata": {},
   "outputs": [
    {
     "name": "stdout",
     "output_type": "stream",
     "text": [
      "---\u001b[0m\n",
      "\u001b[1minvalid: merops_peptidase_families.csv\u001b[0m\n",
      "---\u001b[0m\n",
      "\u001b[0m\n",
      "====  =====  ===========  =====================================================\n",
      "row   field  code         message                                              \n",
      "====  =====  ===========  =====================================================\n",
      "None      1  blank-label  Label in the header in field at position \"1\" is blank\n",
      "====  =====  ===========  =====================================================\n",
      "\u001b[0m\n"
     ]
    }
   ],
   "source": [
    "# Validate data file.\n",
    "! frictionless validate merops_peptidase_families.csv"
   ]
  },
  {
   "cell_type": "markdown",
   "metadata": {},
   "source": [
    "## Python syntax"
   ]
  },
  {
   "cell_type": "code",
   "execution_count": 6,
   "metadata": {},
   "outputs": [
    {
     "data": {
      "text/html": [
       "<div>\n",
       "<style scoped>\n",
       "    .dataframe tbody tr th:only-of-type {\n",
       "        vertical-align: middle;\n",
       "    }\n",
       "\n",
       "    .dataframe tbody tr th {\n",
       "        vertical-align: top;\n",
       "    }\n",
       "\n",
       "    .dataframe thead th {\n",
       "        text-align: right;\n",
       "    }\n",
       "</style>\n",
       "<table border=\"1\" class=\"dataframe\">\n",
       "  <thead>\n",
       "    <tr style=\"text-align: right;\">\n",
       "      <th></th>\n",
       "      <th>Unnamed: 0</th>\n",
       "      <th>Family</th>\n",
       "      <th>Subfamily</th>\n",
       "      <th>Type enzyme</th>\n",
       "      <th>Group</th>\n",
       "    </tr>\n",
       "  </thead>\n",
       "  <tbody>\n",
       "    <tr>\n",
       "      <th>0</th>\n",
       "      <td>0</td>\n",
       "      <td>A1</td>\n",
       "      <td>A1A</td>\n",
       "      <td>pepsin A (Homo sapiens)</td>\n",
       "      <td>Aspartic (A) Peptidase</td>\n",
       "    </tr>\n",
       "    <tr>\n",
       "      <th>1</th>\n",
       "      <td>1</td>\n",
       "      <td>A1</td>\n",
       "      <td>A1B</td>\n",
       "      <td>nepenthesin (Nepenthes gracilis)</td>\n",
       "      <td>Aspartic (A) Peptidase</td>\n",
       "    </tr>\n",
       "    <tr>\n",
       "      <th>2</th>\n",
       "      <td>2</td>\n",
       "      <td>A2</td>\n",
       "      <td>A2A</td>\n",
       "      <td>HIV-1 retropepsin (human immunodeficiency viru...</td>\n",
       "      <td>Aspartic (A) Peptidase</td>\n",
       "    </tr>\n",
       "    <tr>\n",
       "      <th>3</th>\n",
       "      <td>3</td>\n",
       "      <td>A2</td>\n",
       "      <td>A2B</td>\n",
       "      <td>Ty3 transposon peptidase (Saccharomyces cerevi...</td>\n",
       "      <td>Aspartic (A) Peptidase</td>\n",
       "    </tr>\n",
       "  </tbody>\n",
       "</table>\n",
       "</div>"
      ],
      "text/plain": [
       "   Unnamed: 0 Family Subfamily  \\\n",
       "0           0     A1       A1A   \n",
       "1           1     A1       A1B   \n",
       "2           2     A2       A2A   \n",
       "3           3     A2       A2B   \n",
       "\n",
       "                                         Type enzyme                   Group  \n",
       "0                            pepsin A (Homo sapiens)  Aspartic (A) Peptidase  \n",
       "1                   nepenthesin (Nepenthes gracilis)  Aspartic (A) Peptidase  \n",
       "2  HIV-1 retropepsin (human immunodeficiency viru...  Aspartic (A) Peptidase  \n",
       "3  Ty3 transposon peptidase (Saccharomyces cerevi...  Aspartic (A) Peptidase  "
      ]
     },
     "metadata": {},
     "output_type": "display_data"
    }
   ],
   "source": [
    "# View first 4 lines of data file.\n",
    "df = pd.read_csv(\"merops_peptidase_families.csv\")\n",
    "display(df.head(4))"
   ]
  },
  {
   "cell_type": "code",
   "execution_count": 7,
   "metadata": {},
   "outputs": [
    {
     "data": {
      "text/plain": [
       "{'name': 'merops_peptidase_families',\n",
       " 'profile': 'tabular-data-resource',\n",
       " 'path': 'merops_peptidase_families.csv',\n",
       " 'scheme': 'file',\n",
       " 'format': 'csv',\n",
       " 'hashing': 'md5',\n",
       " 'encoding': 'utf-8',\n",
       " 'compression': 'no',\n",
       " 'compressionPath': '',\n",
       " 'control': {'newline': ''},\n",
       " 'dialect': {},\n",
       " 'query': {},\n",
       " 'schema': {'fields': [{'name': 'field1', 'type': 'integer'},\n",
       "   {'name': 'Family', 'type': 'string'},\n",
       "   {'name': 'Subfamily', 'type': 'any'},\n",
       "   {'name': 'Type enzyme', 'type': 'string'},\n",
       "   {'name': 'Group', 'type': 'string'}]},\n",
       " 'stats': {'hash': '55a6de92a8855391526150876ca9f33c',\n",
       "  'bytes': 27216,\n",
       "  'fields': 5,\n",
       "  'rows': 345}}"
      ]
     },
     "execution_count": 7,
     "metadata": {},
     "output_type": "execute_result"
    }
   ],
   "source": [
    "# Describe data file's inferred schema.\n",
    "frictionless.describe(\"merops_peptidase_families.csv\")"
   ]
  },
  {
   "cell_type": "code",
   "execution_count": 8,
   "metadata": {},
   "outputs": [
    {
     "data": {
      "text/plain": [
       "[{'field1': 0, 'Family': 'A1', 'Subfamily': 'A1A', 'Type enzyme': 'pepsin A (Homo sapiens)', 'Group': 'Aspartic (A) Peptidase'},\n",
       " {'field1': 1, 'Family': 'A1', 'Subfamily': 'A1B', 'Type enzyme': 'nepenthesin (Nepenthes gracilis)', 'Group': 'Aspartic (A) Peptidase'},\n",
       " {'field1': 2, 'Family': 'A2', 'Subfamily': 'A2A', 'Type enzyme': 'HIV-1 retropepsin (human immunodeficiency virus 1)', 'Group': 'Aspartic (A) Peptidase'},\n",
       " {'field1': 3, 'Family': 'A2', 'Subfamily': 'A2B', 'Type enzyme': 'Ty3 transposon peptidase (Saccharomyces cerevisiae)', 'Group': 'Aspartic (A) Peptidase'}]"
      ]
     },
     "execution_count": 8,
     "metadata": {},
     "output_type": "execute_result"
    }
   ],
   "source": [
    "# Extract normalized data that conforms to inferred schema.\n",
    "# E.g. invalid cells removed.\n",
    "frictionless.extract(\"merops_peptidase_families.csv\")[:4]"
   ]
  },
  {
   "cell_type": "code",
   "execution_count": 9,
   "metadata": {},
   "outputs": [
    {
     "data": {
      "text/plain": [
       "{'version': '3.48.0',\n",
       " 'time': 0.038,\n",
       " 'valid': False,\n",
       " 'stats': {'errors': 1, 'tables': 1},\n",
       " 'errors': [],\n",
       " 'tables': [{'path': 'merops_peptidase_families.csv',\n",
       "   'scheme': 'file',\n",
       "   'format': 'csv',\n",
       "   'hashing': 'md5',\n",
       "   'encoding': 'utf-8',\n",
       "   'compression': 'no',\n",
       "   'compressionPath': '',\n",
       "   'control': {'newline': ''},\n",
       "   'dialect': {},\n",
       "   'query': {},\n",
       "   'schema': {'fields': [{'name': 'field1', 'type': 'integer'},\n",
       "     {'name': 'Family', 'type': 'string'},\n",
       "     {'name': 'Subfamily', 'type': 'any'},\n",
       "     {'name': 'Type enzyme', 'type': 'string'},\n",
       "     {'name': 'Group', 'type': 'string'}]},\n",
       "   'header': ['', 'Family', 'Subfamily', 'Type enzyme', 'Group'],\n",
       "   'time': 0.038,\n",
       "   'valid': False,\n",
       "   'scope': ['dialect-error',\n",
       "    'schema-error',\n",
       "    'field-error',\n",
       "    'extra-label',\n",
       "    'missing-label',\n",
       "    'blank-label',\n",
       "    'duplicate-label',\n",
       "    'blank-header',\n",
       "    'incorrect-label',\n",
       "    'extra-cell',\n",
       "    'missing-cell',\n",
       "    'blank-row',\n",
       "    'type-error',\n",
       "    'constraint-error',\n",
       "    'unique-error',\n",
       "    'primary-key-error',\n",
       "    'foreign-key-error',\n",
       "    'checksum-error'],\n",
       "   'stats': {'hash': '55a6de92a8855391526150876ca9f33c',\n",
       "    'bytes': 27216,\n",
       "    'fields': 5,\n",
       "    'rows': 345,\n",
       "    'errors': 1},\n",
       "   'partial': False,\n",
       "   'errors': [{'label': '',\n",
       "     'fieldName': 'field1',\n",
       "     'fieldNumber': 1,\n",
       "     'fieldPosition': 1,\n",
       "     'labels': ['', 'Family', 'Subfamily', 'Type enzyme', 'Group'],\n",
       "     'rowPositions': [1],\n",
       "     'code': 'blank-label',\n",
       "     'name': 'Blank Label',\n",
       "     'tags': ['#header', '#structure'],\n",
       "     'note': '',\n",
       "     'message': 'Label in the header in field at position \"1\" is blank',\n",
       "     'description': 'A label in the header row is missing a value. Label should be provided and not be blank.'}]}]}"
      ]
     },
     "execution_count": 9,
     "metadata": {},
     "output_type": "execute_result"
    }
   ],
   "source": [
    "# Validate data file.\n",
    "frictionless.validate(\"merops_peptidase_families.csv\")"
   ]
  },
  {
   "cell_type": "code",
   "execution_count": null,
   "metadata": {},
   "outputs": [],
   "source": []
  }
 ],
 "metadata": {
  "kernelspec": {
   "display_name": "Python 3",
   "language": "python",
   "name": "python3"
  },
  "language_info": {
   "codemirror_mode": {
    "name": "ipython",
    "version": 3
   },
   "file_extension": ".py",
   "mimetype": "text/x-python",
   "name": "python",
   "nbconvert_exporter": "python",
   "pygments_lexer": "ipython3",
   "version": "3.8.3"
  }
 },
 "nbformat": 4,
 "nbformat_minor": 4
}
